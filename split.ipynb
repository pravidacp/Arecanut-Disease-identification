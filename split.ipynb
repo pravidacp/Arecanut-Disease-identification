{
 "cells": [
  {
   "cell_type": "code",
   "execution_count": 1,
   "id": "9aa92e20",
   "metadata": {},
   "outputs": [
    {
     "name": "stderr",
     "output_type": "stream",
     "text": [
      "Copying files: 1071 files [00:12, 86.36 files/s] \n"
     ]
    }
   ],
   "source": [
    "import splitfolders\n",
    "\n",
    "input_folder = r\"C:\\Users\\pravi\\Desktop\\major project\\Data\"\n",
    "output = r\"C:\\Users\\pravi\\Desktop\\major project\\new\\Data_Set\"\n",
    "\n",
    "# Create the output folder if it does not exist\n",
    "splitfolders.ratio(input_folder, output=output, seed=42, ratio=(0.7, 0.2, 0.1))"
   ]
  },
  {
   "cell_type": "code",
   "execution_count": 2,
   "id": "03d248bd",
   "metadata": {},
   "outputs": [
    {
     "name": "stdout",
     "output_type": "stream",
     "text": [
      "Note: you may need to restart the kernel to use updated packages.\n"
     ]
    },
    {
     "name": "stderr",
     "output_type": "stream",
     "text": [
      "WARNING: Retrying (Retry(total=4, connect=None, read=None, redirect=None, status=None)) after connection broken by 'NewConnectionError('<pip._vendor.urllib3.connection.HTTPSConnection object at 0x000001FC0FB6DE20>: Failed to establish a new connection: [Errno 11001] getaddrinfo failed')': /simple/splitfolders/\n",
      "WARNING: Retrying (Retry(total=3, connect=None, read=None, redirect=None, status=None)) after connection broken by 'NewConnectionError('<pip._vendor.urllib3.connection.HTTPSConnection object at 0x000001FC0FB90190>: Failed to establish a new connection: [Errno 11001] getaddrinfo failed')': /simple/splitfolders/\n",
      "WARNING: Retrying (Retry(total=2, connect=None, read=None, redirect=None, status=None)) after connection broken by 'NewConnectionError('<pip._vendor.urllib3.connection.HTTPSConnection object at 0x000001FC0FB90490>: Failed to establish a new connection: [Errno 11001] getaddrinfo failed')': /simple/splitfolders/\n",
      "WARNING: Retrying (Retry(total=1, connect=None, read=None, redirect=None, status=None)) after connection broken by 'NewConnectionError('<pip._vendor.urllib3.connection.HTTPSConnection object at 0x000001FC0FB90640>: Failed to establish a new connection: [Errno 11001] getaddrinfo failed')': /simple/splitfolders/\n",
      "WARNING: Retrying (Retry(total=0, connect=None, read=None, redirect=None, status=None)) after connection broken by 'NewConnectionError('<pip._vendor.urllib3.connection.HTTPSConnection object at 0x000001FC0FB907F0>: Failed to establish a new connection: [Errno 11001] getaddrinfo failed')': /simple/splitfolders/\n",
      "ERROR: Could not find a version that satisfies the requirement splitfolders (from versions: none)\n",
      "ERROR: No matching distribution found for splitfolders\n",
      "WARNING: There was an error checking the latest version of pip.\n"
     ]
    }
   ],
   "source": [
    "pip install splitfolders"
   ]
  },
  {
   "cell_type": "code",
   "execution_count": 5,
   "id": "c9a1069c",
   "metadata": {},
   "outputs": [
    {
     "name": "stdout",
     "output_type": "stream",
     "text": [
      "Note: you may need to restart the kernel to use updated packages.\n"
     ]
    },
    {
     "name": "stderr",
     "output_type": "stream",
     "text": [
      "ERROR: Could not find a version that satisfies the requirement splitfolders (from versions: none)\n",
      "ERROR: No matching distribution found for splitfolders\n"
     ]
    }
   ],
   "source": [
    "pip install splitfolders"
   ]
  },
  {
   "cell_type": "code",
   "execution_count": null,
   "id": "67e7e53f",
   "metadata": {},
   "outputs": [],
   "source": []
  }
 ],
 "metadata": {
  "kernelspec": {
   "display_name": "Python 3 (ipykernel)",
   "language": "python",
   "name": "python3"
  },
  "language_info": {
   "codemirror_mode": {
    "name": "ipython",
    "version": 3
   },
   "file_extension": ".py",
   "mimetype": "text/x-python",
   "name": "python",
   "nbconvert_exporter": "python",
   "pygments_lexer": "ipython3",
   "version": "3.12.0"
  }
 },
 "nbformat": 4,
 "nbformat_minor": 5
}
